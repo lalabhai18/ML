{
 "cells": [
  {
   "cell_type": "code",
   "execution_count": 29,
   "metadata": {},
   "outputs": [],
   "source": [
    "split_num1 = int(len(y_train)*0.9)\n",
    "train1_x,val1_x = x_train[:split_num1],x_train[split_num1:]\n",
    "train1_y,val1_y = y_train[:split_num1],y_train[split_num1:]"
   ]
  },
  {
   "cell_type": "code",
   "execution_count": 30,
   "metadata": {},
   "outputs": [
    {
     "name": "stdout",
     "output_type": "stream",
     "text": [
      "Train on 44100 samples, validate on 4900 samples\n",
      "Epoch 1/10\n",
      "44100/44100 [==============================] - 41s 927us/step - loss: 0.2527 - acc: 0.9244 - val_loss: 0.0945 - val_acc: 0.9694\n",
      "Epoch 2/10\n",
      "44100/44100 [==============================] - 40s 898us/step - loss: 0.1034 - acc: 0.9685 - val_loss: 0.0667 - val_acc: 0.9782\n",
      "Epoch 3/10\n",
      "44100/44100 [==============================] - 40s 898us/step - loss: 0.0800 - acc: 0.9754 - val_loss: 0.0638 - val_acc: 0.9810\n",
      "Epoch 4/10\n",
      "44100/44100 [==============================] - 40s 904us/step - loss: 0.0675 - acc: 0.9783 - val_loss: 0.0576 - val_acc: 0.9829\n",
      "Epoch 5/10\n",
      "44100/44100 [==============================] - 39s 894us/step - loss: 0.0583 - acc: 0.9804 - val_loss: 0.0590 - val_acc: 0.9804\n",
      "Epoch 6/10\n",
      "44100/44100 [==============================] - 40s 908us/step - loss: 0.0527 - acc: 0.9824 - val_loss: 0.0593 - val_acc: 0.9829\n",
      "Epoch 7/10\n",
      "44100/44100 [==============================] - 39s 895us/step - loss: 0.0460 - acc: 0.9850 - val_loss: 0.0541 - val_acc: 0.9843\n",
      "Epoch 8/10\n",
      "44100/44100 [==============================] - 40s 914us/step - loss: 0.0404 - acc: 0.9862 - val_loss: 0.0698 - val_acc: 0.9800\n",
      "Epoch 9/10\n",
      "44100/44100 [==============================] - 40s 913us/step - loss: 0.0398 - acc: 0.9864 - val_loss: 0.0595 - val_acc: 0.9820\n",
      "Epoch 10/10\n",
      "44100/44100 [==============================] - 40s 913us/step - loss: 0.0375 - acc: 0.9875 - val_loss: 0.0509 - val_acc: 0.9837\n"
     ]
    },
    {
     "data": {
      "text/plain": [
       "<keras.callbacks.History at 0x1dfd3cd05f8>"
      ]
     },
     "execution_count": 30,
     "metadata": {},
     "output_type": "execute_result"
    }
   ],
   "source": [
    "from keras.models import Sequential\n",
    "from keras.layers import Conv2D,MaxPooling2D,Flatten,Dense,Dropout\n",
    "from keras.layers.normalization import BatchNormalization\n",
    "model = Sequential()\n",
    "model.add(Conv2D(32,kernel_size = (3,3),activation = 'relu',input_shape = (28,28,1)))\n",
    "model.add(MaxPooling2D(pool_size = (2,2)))\n",
    "model.add(BatchNormalization())\n",
    "model.add(Dropout(0.25))\n",
    "model.add(Flatten())\n",
    "model.add(Dense(128,activation = 'relu'))\n",
    "model.add(BatchNormalization())\n",
    "model.add(Dropout(0.5))\n",
    "model.add(Dense(10,activation = 'softmax'))\n",
    "model.compile(optimizer = 'adam',loss = 'categorical_crossentropy',metrics = ['accuracy'])\n",
    "model.fit(train1_x,train1_y,batch_size = 128,epochs = 10,validation_data = (val1_x,val1_y))"
   ]
  }
 ],
 "metadata": {
  "kernelspec": {
   "display_name": "Python 3",
   "language": "python",
   "name": "python3"
  },
  "language_info": {
   "codemirror_mode": {
    "name": "ipython",
    "version": 3
   },
   "file_extension": ".py",
   "mimetype": "text/x-python",
   "name": "python",
   "nbconvert_exporter": "python",
   "pygments_lexer": "ipython3",
   "version": "3.6.5"
  }
 },
 "nbformat": 4,
 "nbformat_minor": 2
}
