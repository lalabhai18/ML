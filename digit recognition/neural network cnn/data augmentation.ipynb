{
 "cells": [
  {
   "cell_type": "code",
   "execution_count": 22,
   "metadata": {},
   "outputs": [
    {
     "name": "stdout",
     "output_type": "stream",
     "text": [
      "Epoch 1/10\n",
      "267/267 [==============================] - 37s 137ms/step - loss: 1.1755 - acc: 0.5890 - val_loss: 1.5772 - val_acc: 0.6116\n",
      "Epoch 2/10\n",
      "267/267 [==============================] - 37s 137ms/step - loss: 0.9045 - acc: 0.6935 - val_loss: 1.2670 - val_acc: 0.6511\n",
      "Epoch 3/10\n",
      "267/267 [==============================] - 36s 135ms/step - loss: 0.7996 - acc: 0.7295 - val_loss: 1.5023 - val_acc: 0.6046\n",
      "Epoch 4/10\n",
      "267/267 [==============================] - 36s 135ms/step - loss: 0.7418 - acc: 0.7486 - val_loss: 1.5603 - val_acc: 0.5943\n",
      "Epoch 5/10\n",
      "267/267 [==============================] - 36s 135ms/step - loss: 0.7047 - acc: 0.7629 - val_loss: 1.2241 - val_acc: 0.6665\n",
      "Epoch 6/10\n",
      "267/267 [==============================] - 36s 136ms/step - loss: 0.6793 - acc: 0.7763 - val_loss: 1.5933 - val_acc: 0.5999\n",
      "Epoch 7/10\n",
      "267/267 [==============================] - 36s 136ms/step - loss: 0.6608 - acc: 0.7810 - val_loss: 1.3658 - val_acc: 0.6544\n",
      "Epoch 8/10\n",
      "267/267 [==============================] - 36s 135ms/step - loss: 0.6430 - acc: 0.7868 - val_loss: 1.1321 - val_acc: 0.7018\n",
      "Epoch 9/10\n",
      "267/267 [==============================] - 37s 137ms/step - loss: 0.6245 - acc: 0.7934 - val_loss: 1.3343 - val_acc: 0.6473\n",
      "Epoch 10/10\n",
      "267/267 [==============================] - 37s 140ms/step - loss: 0.6132 - acc: 0.7960 - val_loss: 1.4481 - val_acc: 0.6286\n"
     ]
    },
    {
     "data": {
      "text/plain": [
       "<keras.callbacks.History at 0x1d93a2c0550>"
      ]
     },
     "execution_count": 22,
     "metadata": {},
     "output_type": "execute_result"
    }
   ],
   "source": [
    "from keras.preprocessing.image import ImageDataGenerator\n",
    "datagen = aug = ImageDataGenerator(rotation_range=20,zoom_range=0.15,width_shift_range=0.2,height_shift_range=0.2,fill_mode=\"nearest\")\n",
    "#datagen.fit(X_train)\n",
    "model.fit_generator(datagen.flow(train_x, train_y, batch_size=128),epochs = 10,validation_data = (val_x,val_y),steps_per_epoch = len(train_x)//128)"
   ]
  }
 ],
 "metadata": {
  "kernelspec": {
   "display_name": "Python 3",
   "language": "python",
   "name": "python3"
  },
  "language_info": {
   "codemirror_mode": {
    "name": "ipython",
    "version": 3
   },
   "file_extension": ".py",
   "mimetype": "text/x-python",
   "name": "python",
   "nbconvert_exporter": "python",
   "pygments_lexer": "ipython3",
   "version": "3.6.5"
  }
 },
 "nbformat": 4,
 "nbformat_minor": 2
}
