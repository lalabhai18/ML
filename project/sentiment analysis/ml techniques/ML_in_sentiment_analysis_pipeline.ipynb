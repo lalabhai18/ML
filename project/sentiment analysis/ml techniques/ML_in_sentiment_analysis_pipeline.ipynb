{
  "nbformat": 4,
  "nbformat_minor": 0,
  "metadata": {
    "colab": {
      "name": "ML in sentiment analysis pipeline.ipynb",
      "provenance": []
    },
    "kernelspec": {
      "name": "python3",
      "display_name": "Python 3"
    },
    "accelerator": "GPU"
  },
  "cells": [
    {
      "cell_type": "code",
      "metadata": {
        "id": "JoBARMLiYTYX",
        "colab_type": "code",
        "colab": {}
      },
      "source": [
        "import numpy as np\n",
        "import pandas as pd\n",
        "import os\n",
        "import matplotlib.pyplot as plt\n",
        "import nltk\n",
        "import string\n",
        "import re\n",
        "from sklearn.model_selection import train_test_split\n",
        "from sklearn import model_selection, preprocessing, linear_model, naive_bayes, metrics, svm\n",
        "from sklearn.feature_extraction.text import TfidfVectorizer,CountVectorizer\n",
        "from sklearn.linear_model import LogisticRegression\n",
        "from sklearn.svm import LinearSVC\n",
        "import xgboost as xgb\n",
        "from sklearn.ensemble import RandomForestClassifier\n",
        "from keras.models import load_model"
      ],
      "execution_count": 0,
      "outputs": []
    },
    {
      "cell_type": "code",
      "metadata": {
        "id": "rEuHfOnmYhm0",
        "colab_type": "code",
        "outputId": "e7d88685-c6fc-49b1-b7f4-7d3ad8256476",
        "colab": {
          "base_uri": "https://localhost:8080/",
          "height": 34
        }
      },
      "source": [
        "from google.colab import drive\n",
        "drive.mount(\"/content/gdrive\")"
      ],
      "execution_count": 63,
      "outputs": [
        {
          "output_type": "stream",
          "text": [
            "Drive already mounted at /content/gdrive; to attempt to forcibly remount, call drive.mount(\"/content/gdrive\", force_remount=True).\n"
          ],
          "name": "stdout"
        }
      ]
    },
    {
      "cell_type": "code",
      "metadata": {
        "id": "K7Qq26GIYrMS",
        "colab_type": "code",
        "colab": {}
      },
      "source": [
        "data1 = pd.read_csv('train_2kmZucJ.csv')\n",
        "data1"
      ],
      "execution_count": 0,
      "outputs": []
    },
    {
      "cell_type": "code",
      "metadata": {
        "id": "T5W9n5uckPrn",
        "colab_type": "code",
        "colab": {}
      },
      "source": [
        "data2 = pd.read_csv('test_oJQbWVk.csv')\n",
        "data2"
      ],
      "execution_count": 0,
      "outputs": []
    },
    {
      "cell_type": "code",
      "metadata": {
        "id": "sZN_dJuLgbPS",
        "colab_type": "code",
        "outputId": "b670a39f-c960-478b-9805-e9b4e84f929f",
        "colab": {
          "base_uri": "https://localhost:8080/",
          "height": 51
        }
      },
      "source": [
        "from nltk.corpus import stopwords\n",
        "import nltk\n",
        "nltk.download('stopwords')\n",
        "stop_words = stopwords.words('english')\n",
        "#stop_words"
      ],
      "execution_count": 68,
      "outputs": [
        {
          "output_type": "stream",
          "text": [
            "[nltk_data] Downloading package stopwords to /root/nltk_data...\n",
            "[nltk_data]   Package stopwords is already up-to-date!\n"
          ],
          "name": "stdout"
        }
      ]
    },
    {
      "cell_type": "code",
      "metadata": {
        "id": "rPjuQRl4gFCN",
        "colab_type": "code",
        "colab": {}
      },
      "source": [
        "def data_cleaning(tweet):\n",
        "  tweet = re.sub(r'^https?:\\/\\/.*[\\r\\n]*', '', tweet, flags=re.MULTILINE)\n",
        "  tokens = tweet.split()\n",
        "  table = str.maketrans('', '', string.punctuation)\n",
        "  tokens = [w.translate(table) for w in tokens]\n",
        "  tokens = [word for word in tokens if word.isalpha()]\n",
        "  #stop_words = set(stopwords.words('english'))\n",
        "  tokens = [w for w in tokens if not w in stop_words]\n",
        "  tokens = [word for word in tokens if len(word) > 1]\n",
        "  tokens = [word.lower() for word in tokens]\n",
        "  #tokens = [porter.stem(word) for word in tokens]\n",
        "  return tokens"
      ],
      "execution_count": 0,
      "outputs": []
    },
    {
      "cell_type": "code",
      "metadata": {
        "id": "WWp0HiaegeoD",
        "colab_type": "code",
        "colab": {}
      },
      "source": [
        "def data_preparation(data1):\n",
        "  for i in range(len(data1)):\n",
        "    str1 = \" \"\n",
        "    token = data_cleaning(data1['tweet'][i])\n",
        "    data1['tweet'][i] = str1.join(token)\n",
        "  return data1"
      ],
      "execution_count": 0,
      "outputs": []
    },
    {
      "cell_type": "code",
      "metadata": {
        "id": "TVFo5Bq1YrzR",
        "colab_type": "code",
        "colab": {}
      },
      "source": [
        "def data_split(data1):\n",
        "  train_input,val_input,train_output,val_output = train_test_split(data1['tweet'], data1['label'],random_state = 0)\n",
        "  return train_input,val_input,train_output,val_output"
      ],
      "execution_count": 0,
      "outputs": []
    },
    {
      "cell_type": "markdown",
      "metadata": {
        "id": "E15dWIV8mkxm",
        "colab_type": "text"
      },
      "source": [
        "**WORD2VEC**\n"
      ]
    },
    {
      "cell_type": "code",
      "metadata": {
        "id": "8mAgyg6T4FPA",
        "colab_type": "code",
        "colab": {}
      },
      "source": [
        "def word2vec(train_input,val_input,data1,c):\n",
        "   if(c == 1):\n",
        "      tfidf_vect = TfidfVectorizer(analyzer='word')\n",
        "      tfidf_vect.fit(data1['tweet'])\n",
        "      xtrain = tfidf_vect.transform(train_input)\n",
        "      valtrain = tfidf_vect.transform(val_input)\n",
        "   elif(c == 2):\n",
        "      tfidf_vect_ngram = TfidfVectorizer(analyzer='word', token_pattern=r'\\w{1,}', ngram_range=(2,3), max_features=5000)\n",
        "      tfidf_vect_ngram.fit(data1['tweet'])\n",
        "      xtrain =  tfidf_vect_ngram.transform(train_input)\n",
        "      valtrain =  tfidf_vect_ngram.transform(val_input)\n",
        "   elif(c == 3):\n",
        "      tfidf_vect_ngram_chars = TfidfVectorizer(analyzer='char', token_pattern=r'\\w{1,}', ngram_range=(2,3), max_features=5000)\n",
        "      tfidf_vect_ngram_chars.fit(data1['tweet'])\n",
        "      xtrain =  tfidf_vect_ngram_chars.transform(train_input) \n",
        "      valtrain =  tfidf_vect_ngram_chars.transform(val_input) \n",
        "   elif(c == 4):\n",
        "      count_vect = CountVectorizer(analyzer='word', token_pattern=r'\\w{1,}')\n",
        "      count_vect.fit(data1['tweet'])\n",
        "      xtrain =  count_vect.transform(train_input)\n",
        "      valtrain =  count_vect.transform(val_input)\n",
        "   return xtrain,valtrain"
      ],
      "execution_count": 0,
      "outputs": []
    },
    {
      "cell_type": "code",
      "metadata": {
        "id": "L2qKIC_A5ufR",
        "colab_type": "code",
        "colab": {}
      },
      "source": [
        "def model_fitting(xtrain,train_output,model_name):\n",
        "  if(model_name == 'NAVIE BAYES'):\n",
        "    nb = naive_bayes.MultinomialNB()\n",
        "    model1 = nb.fit(xtrain, train_output)\n",
        "    #predictions = model1.predict(valtrain)\n",
        "    #metrics.accuracy_score(predictions, val_output)\n",
        "  elif(model_name == 'LogisticRegression'):\n",
        "    lr = LogisticRegression()\n",
        "    model1 = lr.fit(xtrain, train_output)\n",
        "  elif(model_name == 'SVM'):\n",
        "    svc = LinearSVC()\n",
        "    model1 = svc.fit(xtrain, train_output)  \n",
        "  elif(model_name == 'xgb'):\n",
        "    xgb1 = xgb.XGBClassifier()\n",
        "    model1 = xgb1.fit(xtrain,train_output)\n",
        "    #predictions1 = model1.predict(valtrain)\n",
        "  elif(model_name == 'RandomForest') :\n",
        "    rf = RandomForestClassifier()\n",
        "    model1 = rf.fit(xtrain, train_output)\n",
        "    #predictions1 = model1.predict(valtrain)\n",
        "    #print(metrics.accuracy_score(predictions1, val_output))\n",
        "  return model1    "
      ],
      "execution_count": 0,
      "outputs": []
    },
    {
      "cell_type": "code",
      "metadata": {
        "id": "r1tmpZy48xm6",
        "colab_type": "code",
        "colab": {}
      },
      "source": [
        "def model_prediction(model,valtrain,val_output):\n",
        "  predictions = model.predict(valtrain)\n",
        "  print(metrics.accuracy_score(predictions, val_output))"
      ],
      "execution_count": 0,
      "outputs": []
    },
    {
      "cell_type": "code",
      "metadata": {
        "id": "uM7nMMrJ9lOL",
        "colab_type": "code",
        "colab": {}
      },
      "source": [
        "def training(data1,model_name,c):\n",
        "  data1 = data_preparation(data1)\n",
        "  train_input,val_input,train_output,val_output = data_split(data1)\n",
        "  xtrain,valtrain = word2vec(train_input,val_input,data1,c)\n",
        "  model1 = model_fitting(xtrain,train_output,model_name)\n",
        "  #model1.save(model_name + c + '.h5')\n",
        "  model_prediction(model1,valtrain,val_output)"
      ],
      "execution_count": 0,
      "outputs": []
    },
    {
      "cell_type": "code",
      "metadata": {
        "id": "YHxhL6A8BusR",
        "colab_type": "code",
        "colab": {}
      },
      "source": [
        "def testing(data2,c,model_name):\n",
        "  data2 = data_preparation(data2)\n",
        "  if(model_name == 'NAVIE BAYES'):\n",
        "    model1 = naive_bayes.MultinomialNB()\n",
        "    model1 = load_model(model_name + c + '.h5')\n",
        "    xtest = word2vec(train_input,data2,c)\n",
        "    predictions = model1.predict(xtest)\n",
        "  elif(model_name == 'LogisticRegression'):\n",
        "    model1 = LogisticRegression()\n",
        "    model1 = load_model(model_name + c + '.h5')\n",
        "    xtest = word2vec(train_input,data2,c)\n",
        "    predictions = model1.predict(xtest)\n",
        "  elif(model_name == 'SVM'):\n",
        "    model1 = LinearSVC()\n",
        "    model1 = load_model(model_name + c + '.h5')\n",
        "    xtest = word2vec(train_input,data2,c)\n",
        "    predictions = model1.predict(xtest) \n",
        "  elif(model_name == 'xgb'):\n",
        "    model1 = xgb.XGBClassifier()\n",
        "    model1 = load_model(model_name + c + '.h5')\n",
        "    xtest = word2vec(train_input,data2,c)\n",
        "    predictions = model1.predict(xtest)\n",
        "  elif(model_name == 'RandomForest') :\n",
        "    model1 = RandomForestClassifier()\n",
        "    model1 = load_model(model_name + c + '.h5')\n",
        "    xtest = word2vec(train_input,data2,c)\n",
        "    predictions = model1.predict(xtest)\n",
        "  return predictions   "
      ],
      "execution_count": 0,
      "outputs": []
    },
    {
      "cell_type": "markdown",
      "metadata": {
        "id": "olLNk_wxmqbj",
        "colab_type": "text"
      },
      "source": [
        "**NAVIE BAYES**"
      ]
    },
    {
      "cell_type": "code",
      "metadata": {
        "id": "cBLY50MT-2qj",
        "colab_type": "code",
        "colab": {
          "base_uri": "https://localhost:8080/",
          "height": 479
        },
        "outputId": "f5e07054-6741-4f04-b6d4-50b1a0860bc7"
      },
      "source": [
        "for i in range(1,5):\n",
        "  training(data1,'NAVIE BAYES',i)"
      ],
      "execution_count": 79,
      "outputs": [
        {
          "output_type": "stream",
          "text": [
            "/usr/local/lib/python3.6/dist-packages/ipykernel_launcher.py:5: SettingWithCopyWarning: \n",
            "A value is trying to be set on a copy of a slice from a DataFrame\n",
            "\n",
            "See the caveats in the documentation: http://pandas.pydata.org/pandas-docs/stable/user_guide/indexing.html#returning-a-view-versus-a-copy\n",
            "  \"\"\"\n"
          ],
          "name": "stderr"
        },
        {
          "output_type": "stream",
          "text": [
            "0.8469696969696969\n"
          ],
          "name": "stdout"
        },
        {
          "output_type": "stream",
          "text": [
            "/usr/local/lib/python3.6/dist-packages/ipykernel_launcher.py:5: SettingWithCopyWarning: \n",
            "A value is trying to be set on a copy of a slice from a DataFrame\n",
            "\n",
            "See the caveats in the documentation: http://pandas.pydata.org/pandas-docs/stable/user_guide/indexing.html#returning-a-view-versus-a-copy\n",
            "  \"\"\"\n"
          ],
          "name": "stderr"
        },
        {
          "output_type": "stream",
          "text": [
            "0.8171717171717172\n"
          ],
          "name": "stdout"
        },
        {
          "output_type": "stream",
          "text": [
            "/usr/local/lib/python3.6/dist-packages/ipykernel_launcher.py:5: SettingWithCopyWarning: \n",
            "A value is trying to be set on a copy of a slice from a DataFrame\n",
            "\n",
            "See the caveats in the documentation: http://pandas.pydata.org/pandas-docs/stable/user_guide/indexing.html#returning-a-view-versus-a-copy\n",
            "  \"\"\"\n",
            "/usr/local/lib/python3.6/dist-packages/sklearn/feature_extraction/text.py:524: UserWarning: The parameter 'token_pattern' will not be used since 'analyzer' != 'word'\n",
            "  warnings.warn(\"The parameter 'token_pattern' will not be used\"\n"
          ],
          "name": "stderr"
        },
        {
          "output_type": "stream",
          "text": [
            "0.8732323232323232\n"
          ],
          "name": "stdout"
        },
        {
          "output_type": "stream",
          "text": [
            "/usr/local/lib/python3.6/dist-packages/ipykernel_launcher.py:5: SettingWithCopyWarning: \n",
            "A value is trying to be set on a copy of a slice from a DataFrame\n",
            "\n",
            "See the caveats in the documentation: http://pandas.pydata.org/pandas-docs/stable/user_guide/indexing.html#returning-a-view-versus-a-copy\n",
            "  \"\"\"\n"
          ],
          "name": "stderr"
        },
        {
          "output_type": "stream",
          "text": [
            "0.8808080808080808\n"
          ],
          "name": "stdout"
        }
      ]
    },
    {
      "cell_type": "markdown",
      "metadata": {
        "id": "D3d7eY-6mzbM",
        "colab_type": "text"
      },
      "source": [
        "**LOGISTIC REGRESSION**"
      ]
    },
    {
      "cell_type": "code",
      "metadata": {
        "id": "gOfoV4GOG3A5",
        "colab_type": "code",
        "colab": {
          "base_uri": "https://localhost:8080/",
          "height": 479
        },
        "outputId": "ff59478f-8026-4bff-81a7-ff0064275547"
      },
      "source": [
        "for i in range(1,5):\n",
        "  training(data1,'LogisticRegression',i)"
      ],
      "execution_count": 80,
      "outputs": [
        {
          "output_type": "stream",
          "text": [
            "/usr/local/lib/python3.6/dist-packages/ipykernel_launcher.py:5: SettingWithCopyWarning: \n",
            "A value is trying to be set on a copy of a slice from a DataFrame\n",
            "\n",
            "See the caveats in the documentation: http://pandas.pydata.org/pandas-docs/stable/user_guide/indexing.html#returning-a-view-versus-a-copy\n",
            "  \"\"\"\n"
          ],
          "name": "stderr"
        },
        {
          "output_type": "stream",
          "text": [
            "0.8555555555555555\n"
          ],
          "name": "stdout"
        },
        {
          "output_type": "stream",
          "text": [
            "/usr/local/lib/python3.6/dist-packages/ipykernel_launcher.py:5: SettingWithCopyWarning: \n",
            "A value is trying to be set on a copy of a slice from a DataFrame\n",
            "\n",
            "See the caveats in the documentation: http://pandas.pydata.org/pandas-docs/stable/user_guide/indexing.html#returning-a-view-versus-a-copy\n",
            "  \"\"\"\n"
          ],
          "name": "stderr"
        },
        {
          "output_type": "stream",
          "text": [
            "0.7893939393939394\n"
          ],
          "name": "stdout"
        },
        {
          "output_type": "stream",
          "text": [
            "/usr/local/lib/python3.6/dist-packages/ipykernel_launcher.py:5: SettingWithCopyWarning: \n",
            "A value is trying to be set on a copy of a slice from a DataFrame\n",
            "\n",
            "See the caveats in the documentation: http://pandas.pydata.org/pandas-docs/stable/user_guide/indexing.html#returning-a-view-versus-a-copy\n",
            "  \"\"\"\n",
            "/usr/local/lib/python3.6/dist-packages/sklearn/feature_extraction/text.py:524: UserWarning: The parameter 'token_pattern' will not be used since 'analyzer' != 'word'\n",
            "  warnings.warn(\"The parameter 'token_pattern' will not be used\"\n"
          ],
          "name": "stderr"
        },
        {
          "output_type": "stream",
          "text": [
            "0.8666666666666667\n"
          ],
          "name": "stdout"
        },
        {
          "output_type": "stream",
          "text": [
            "/usr/local/lib/python3.6/dist-packages/ipykernel_launcher.py:5: SettingWithCopyWarning: \n",
            "A value is trying to be set on a copy of a slice from a DataFrame\n",
            "\n",
            "See the caveats in the documentation: http://pandas.pydata.org/pandas-docs/stable/user_guide/indexing.html#returning-a-view-versus-a-copy\n",
            "  \"\"\"\n"
          ],
          "name": "stderr"
        },
        {
          "output_type": "stream",
          "text": [
            "0.8742424242424243\n"
          ],
          "name": "stdout"
        }
      ]
    },
    {
      "cell_type": "markdown",
      "metadata": {
        "id": "KpOPnQy0AX5w",
        "colab_type": "text"
      },
      "source": [
        "**SVM**"
      ]
    },
    {
      "cell_type": "code",
      "metadata": {
        "id": "XQDixYdR9quo",
        "colab_type": "code",
        "outputId": "1ef5343f-b71a-4993-a2a4-392dad29648b",
        "colab": {
          "base_uri": "https://localhost:8080/",
          "height": 204
        }
      },
      "source": [
        "for i in range(1,5):\n",
        "  training(data1,'SVM',i)"
      ],
      "execution_count": 0,
      "outputs": [
        {
          "output_type": "stream",
          "text": [
            "/usr/local/lib/python3.6/dist-packages/ipykernel_launcher.py:5: SettingWithCopyWarning: \n",
            "A value is trying to be set on a copy of a slice from a DataFrame\n",
            "\n",
            "See the caveats in the documentation: http://pandas.pydata.org/pandas-docs/stable/user_guide/indexing.html#returning-a-view-versus-a-copy\n",
            "  \"\"\"\n"
          ],
          "name": "stderr"
        },
        {
          "output_type": "stream",
          "text": [
            "0.8636363636363636\n"
          ],
          "name": "stdout"
        },
        {
          "output_type": "stream",
          "text": [
            "/usr/local/lib/python3.6/dist-packages/ipykernel_launcher.py:5: SettingWithCopyWarning: \n",
            "A value is trying to be set on a copy of a slice from a DataFrame\n",
            "\n",
            "See the caveats in the documentation: http://pandas.pydata.org/pandas-docs/stable/user_guide/indexing.html#returning-a-view-versus-a-copy\n",
            "  \"\"\"\n"
          ],
          "name": "stderr"
        }
      ]
    },
    {
      "cell_type": "markdown",
      "metadata": {
        "id": "zggnDJr3HbB5",
        "colab_type": "text"
      },
      "source": [
        "**XGboost**"
      ]
    },
    {
      "cell_type": "code",
      "metadata": {
        "id": "YTgkfOEjHf3-",
        "colab_type": "code",
        "colab": {
          "base_uri": "https://localhost:8080/",
          "height": 479
        },
        "outputId": "bea8aebc-346f-4232-8945-76319083f8cb"
      },
      "source": [
        "for i in range(1,5):\n",
        "  training(data1,'xgb',i)"
      ],
      "execution_count": 81,
      "outputs": [
        {
          "output_type": "stream",
          "text": [
            "/usr/local/lib/python3.6/dist-packages/ipykernel_launcher.py:5: SettingWithCopyWarning: \n",
            "A value is trying to be set on a copy of a slice from a DataFrame\n",
            "\n",
            "See the caveats in the documentation: http://pandas.pydata.org/pandas-docs/stable/user_guide/indexing.html#returning-a-view-versus-a-copy\n",
            "  \"\"\"\n"
          ],
          "name": "stderr"
        },
        {
          "output_type": "stream",
          "text": [
            "0.8262626262626263\n"
          ],
          "name": "stdout"
        },
        {
          "output_type": "stream",
          "text": [
            "/usr/local/lib/python3.6/dist-packages/ipykernel_launcher.py:5: SettingWithCopyWarning: \n",
            "A value is trying to be set on a copy of a slice from a DataFrame\n",
            "\n",
            "See the caveats in the documentation: http://pandas.pydata.org/pandas-docs/stable/user_guide/indexing.html#returning-a-view-versus-a-copy\n",
            "  \"\"\"\n"
          ],
          "name": "stderr"
        },
        {
          "output_type": "stream",
          "text": [
            "0.76010101010101\n"
          ],
          "name": "stdout"
        },
        {
          "output_type": "stream",
          "text": [
            "/usr/local/lib/python3.6/dist-packages/ipykernel_launcher.py:5: SettingWithCopyWarning: \n",
            "A value is trying to be set on a copy of a slice from a DataFrame\n",
            "\n",
            "See the caveats in the documentation: http://pandas.pydata.org/pandas-docs/stable/user_guide/indexing.html#returning-a-view-versus-a-copy\n",
            "  \"\"\"\n",
            "/usr/local/lib/python3.6/dist-packages/sklearn/feature_extraction/text.py:524: UserWarning: The parameter 'token_pattern' will not be used since 'analyzer' != 'word'\n",
            "  warnings.warn(\"The parameter 'token_pattern' will not be used\"\n"
          ],
          "name": "stderr"
        },
        {
          "output_type": "stream",
          "text": [
            "0.854040404040404\n"
          ],
          "name": "stdout"
        },
        {
          "output_type": "stream",
          "text": [
            "/usr/local/lib/python3.6/dist-packages/ipykernel_launcher.py:5: SettingWithCopyWarning: \n",
            "A value is trying to be set on a copy of a slice from a DataFrame\n",
            "\n",
            "See the caveats in the documentation: http://pandas.pydata.org/pandas-docs/stable/user_guide/indexing.html#returning-a-view-versus-a-copy\n",
            "  \"\"\"\n"
          ],
          "name": "stderr"
        },
        {
          "output_type": "stream",
          "text": [
            "0.8318181818181818\n"
          ],
          "name": "stdout"
        }
      ]
    },
    {
      "cell_type": "markdown",
      "metadata": {
        "id": "Rn3rSLk6H3nA",
        "colab_type": "text"
      },
      "source": [
        "**random forest**"
      ]
    },
    {
      "cell_type": "code",
      "metadata": {
        "id": "SBBcNGWxH8Oe",
        "colab_type": "code",
        "colab": {
          "base_uri": "https://localhost:8080/",
          "height": 479
        },
        "outputId": "abab30fe-45cc-4288-e045-69e7fab31a1e"
      },
      "source": [
        "for i in range(1,5):\n",
        "  training(data1,'RandomForest',i)"
      ],
      "execution_count": 82,
      "outputs": [
        {
          "output_type": "stream",
          "text": [
            "/usr/local/lib/python3.6/dist-packages/ipykernel_launcher.py:5: SettingWithCopyWarning: \n",
            "A value is trying to be set on a copy of a slice from a DataFrame\n",
            "\n",
            "See the caveats in the documentation: http://pandas.pydata.org/pandas-docs/stable/user_guide/indexing.html#returning-a-view-versus-a-copy\n",
            "  \"\"\"\n"
          ],
          "name": "stderr"
        },
        {
          "output_type": "stream",
          "text": [
            "0.8601010101010101\n"
          ],
          "name": "stdout"
        },
        {
          "output_type": "stream",
          "text": [
            "/usr/local/lib/python3.6/dist-packages/ipykernel_launcher.py:5: SettingWithCopyWarning: \n",
            "A value is trying to be set on a copy of a slice from a DataFrame\n",
            "\n",
            "See the caveats in the documentation: http://pandas.pydata.org/pandas-docs/stable/user_guide/indexing.html#returning-a-view-versus-a-copy\n",
            "  \"\"\"\n"
          ],
          "name": "stderr"
        },
        {
          "output_type": "stream",
          "text": [
            "0.8212121212121212\n"
          ],
          "name": "stdout"
        },
        {
          "output_type": "stream",
          "text": [
            "/usr/local/lib/python3.6/dist-packages/ipykernel_launcher.py:5: SettingWithCopyWarning: \n",
            "A value is trying to be set on a copy of a slice from a DataFrame\n",
            "\n",
            "See the caveats in the documentation: http://pandas.pydata.org/pandas-docs/stable/user_guide/indexing.html#returning-a-view-versus-a-copy\n",
            "  \"\"\"\n",
            "/usr/local/lib/python3.6/dist-packages/sklearn/feature_extraction/text.py:524: UserWarning: The parameter 'token_pattern' will not be used since 'analyzer' != 'word'\n",
            "  warnings.warn(\"The parameter 'token_pattern' will not be used\"\n"
          ],
          "name": "stderr"
        },
        {
          "output_type": "stream",
          "text": [
            "0.8550505050505051\n"
          ],
          "name": "stdout"
        },
        {
          "output_type": "stream",
          "text": [
            "/usr/local/lib/python3.6/dist-packages/ipykernel_launcher.py:5: SettingWithCopyWarning: \n",
            "A value is trying to be set on a copy of a slice from a DataFrame\n",
            "\n",
            "See the caveats in the documentation: http://pandas.pydata.org/pandas-docs/stable/user_guide/indexing.html#returning-a-view-versus-a-copy\n",
            "  \"\"\"\n"
          ],
          "name": "stderr"
        },
        {
          "output_type": "stream",
          "text": [
            "0.8757575757575757\n"
          ],
          "name": "stdout"
        }
      ]
    }
  ]
}