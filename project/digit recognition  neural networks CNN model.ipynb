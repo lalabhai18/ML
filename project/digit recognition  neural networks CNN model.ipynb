{
 "cells": [
  {
   "cell_type": "code",
   "execution_count": 1,
   "metadata": {},
   "outputs": [
    {
     "name": "stderr",
     "output_type": "stream",
     "text": [
      "C:\\Users\\admin\\Anaconda3\\lib\\site-packages\\h5py\\__init__.py:36: FutureWarning: Conversion of the second argument of issubdtype from `float` to `np.floating` is deprecated. In future, it will be treated as `np.float64 == np.dtype(float).type`.\n",
      "  from ._conv import register_converters as _register_converters\n",
      "Using TensorFlow backend.\n"
     ]
    }
   ],
   "source": [
    "import os\n",
    "import numpy as np\n",
    "import pandas as pd\n",
    "import matplotlib.pyplot as plt\n",
    "import seaborn as sns\n",
    "import tensorflow as tf\n",
    "import cv2\n",
    "import keras"
   ]
  },
  {
   "cell_type": "code",
   "execution_count": 2,
   "metadata": {},
   "outputs": [
    {
     "data": {
      "text/plain": [
       "['',\n",
       " 'C:\\\\Users\\\\admin\\\\Anaconda3\\\\python36.zip',\n",
       " 'C:\\\\Users\\\\admin\\\\Anaconda3\\\\DLLs',\n",
       " 'C:\\\\Users\\\\admin\\\\Anaconda3\\\\lib',\n",
       " 'C:\\\\Users\\\\admin\\\\Anaconda3',\n",
       " 'C:\\\\Users\\\\admin\\\\Anaconda3\\\\lib\\\\site-packages',\n",
       " 'C:\\\\Users\\\\admin\\\\Anaconda3\\\\lib\\\\site-packages\\\\win32',\n",
       " 'C:\\\\Users\\\\admin\\\\Anaconda3\\\\lib\\\\site-packages\\\\win32\\\\lib',\n",
       " 'C:\\\\Users\\\\admin\\\\Anaconda3\\\\lib\\\\site-packages\\\\Pythonwin',\n",
       " 'C:\\\\Users\\\\admin\\\\Anaconda3\\\\lib\\\\site-packages\\\\IPython\\\\extensions',\n",
       " 'C:\\\\Users\\\\admin\\\\.ipython']"
      ]
     },
     "execution_count": 2,
     "metadata": {},
     "output_type": "execute_result"
    }
   ],
   "source": [
    "os.sys.path"
   ]
  },
  {
   "cell_type": "code",
   "execution_count": 3,
   "metadata": {},
   "outputs": [],
   "source": [
    "seed =128\n",
    "rng = np.random.RandomState(seed)"
   ]
  },
  {
   "cell_type": "code",
   "execution_count": 4,
   "metadata": {},
   "outputs": [],
   "source": [
    "os.chdir(\"C:\\\\Users\\\\admin\\\\Desktop\")"
   ]
  },
  {
   "cell_type": "code",
   "execution_count": 5,
   "metadata": {},
   "outputs": [],
   "source": [
    "root_dir = os.path.abspath('.')\n",
    "data_dir = os.path.join(root_dir,'data')"
   ]
  },
  {
   "cell_type": "code",
   "execution_count": 6,
   "metadata": {},
   "outputs": [
    {
     "name": "stdout",
     "output_type": "stream",
     "text": [
      "        filename  label\n",
      "0          0.png      4\n",
      "1          1.png      9\n",
      "2          2.png      1\n",
      "3          3.png      7\n",
      "4          4.png      3\n",
      "5          5.png      9\n",
      "6          6.png      4\n",
      "7          7.png      9\n",
      "8          8.png      3\n",
      "9          9.png      4\n",
      "10        10.png      2\n",
      "11        11.png      3\n",
      "12        12.png      6\n",
      "13        13.png      6\n",
      "14        14.png      0\n",
      "15        15.png      4\n",
      "16        16.png      8\n",
      "17        17.png      7\n",
      "18        18.png      9\n",
      "19        19.png      5\n",
      "20        20.png      3\n",
      "21        21.png      9\n",
      "22        22.png      1\n",
      "23        23.png      9\n",
      "24        24.png      6\n",
      "25        25.png      8\n",
      "26        26.png      9\n",
      "27        27.png      5\n",
      "28        28.png      7\n",
      "29        29.png      3\n",
      "...          ...    ...\n",
      "48970  48970.png      7\n",
      "48971  48971.png      5\n",
      "48972  48972.png      0\n",
      "48973  48973.png      1\n",
      "48974  48974.png      4\n",
      "48975  48975.png      1\n",
      "48976  48976.png      7\n",
      "48977  48977.png      5\n",
      "48978  48978.png      6\n",
      "48979  48979.png      5\n",
      "48980  48980.png      6\n",
      "48981  48981.png      3\n",
      "48982  48982.png      5\n",
      "48983  48983.png      5\n",
      "48984  48984.png      9\n",
      "48985  48985.png      2\n",
      "48986  48986.png      9\n",
      "48987  48987.png      0\n",
      "48988  48988.png      0\n",
      "48989  48989.png      7\n",
      "48990  48990.png      0\n",
      "48991  48991.png      1\n",
      "48992  48992.png      1\n",
      "48993  48993.png      6\n",
      "48994  48994.png      9\n",
      "48995  48995.png      2\n",
      "48996  48996.png      4\n",
      "48997  48997.png      9\n",
      "48998  48998.png      3\n",
      "48999  48999.png      0\n",
      "\n",
      "[49000 rows x 2 columns]\n"
     ]
    }
   ],
   "source": [
    "train = pd.read_csv(os.path.join(data_dir,'train.csv'))\n",
    "print(train)"
   ]
  },
  {
   "cell_type": "code",
   "execution_count": 7,
   "metadata": {},
   "outputs": [
    {
     "data": {
      "image/png": "[encoded data removed]",
      "text/plain": [
       "<Figure size 432x288 with 1 Axes>"
      ]
     },
     "metadata": {},
     "output_type": "display_data"
    }
   ],
   "source": [
    "img_name = rng.choice(train.filename)\n",
    "filepath = os.path.join(data_dir,'Images','Train',img_name)\n",
    "img = cv2.imread(filepath,0)\n",
    "plt.imshow(img)\n",
    "plt.show()"
   ]
  },
  {
   "cell_type": "code",
   "execution_count": 8,
   "metadata": {},
   "outputs": [],
   "source": [
    "#print(img)"
   ]
  },
  {
   "cell_type": "code",
   "execution_count": 9,
   "metadata": {},
   "outputs": [
    {
     "data": {
      "text/plain": [
       "(28, 28)"
      ]
     },
     "execution_count": 9,
     "metadata": {},
     "output_type": "execute_result"
    }
   ],
   "source": [
    "np.shape(img)"
   ]
  },
  {
   "cell_type": "code",
   "execution_count": 10,
   "metadata": {},
   "outputs": [
    {
     "data": {
      "text/plain": [
       "2"
      ]
     },
     "execution_count": 10,
     "metadata": {},
     "output_type": "execute_result"
    }
   ],
   "source": [
    "np.ndim(img)"
   ]
  },
  {
   "cell_type": "code",
   "execution_count": 11,
   "metadata": {},
   "outputs": [],
   "source": [
    "temp = []\n",
    "for image in train.filename:\n",
    "    filepath = os.path.join(data_dir,'Images','Train',image)\n",
    "    img = cv2.imread(filepath,0)\n",
    "    temp.append(img)"
   ]
  },
  {
   "cell_type": "markdown",
   "metadata": {},
   "source": [
    "X_train = np.array(temp).reshape(49000,28,28,1)\n",
    "y_train = list(train['label'])"
   ]
  },
  {
   "cell_type": "markdown",
   "metadata": {},
   "source": [
    "# DATA AUGMENTATION"
   ]
  },
  {
   "cell_type": "markdown",
   "metadata": {},
   "source": [
    "from keras.preprocessing.image import ImageDataGenerator\n",
    "datagen = ImageDataGenerator(width_shift_range = [0.1,0.2])\n",
    "datagen.fit(X_train)\n",
    "for X_batch, y_batch in datagen.flow(X_train, y_train, batch_size=9, save_to_dir=os.path.join(data_dir,'Images','Train'), save_prefix='aug', save_format='png'):\n",
    "    y_train.append(y_batch)"
   ]
  },
  {
   "cell_type": "code",
   "execution_count": 12,
   "metadata": {},
   "outputs": [
    {
     "name": "stdout",
     "output_type": "stream",
     "text": [
      "49000\n"
     ]
    }
   ],
   "source": [
    "print(len(temp))"
   ]
  },
  {
   "cell_type": "code",
   "execution_count": 28,
   "metadata": {},
   "outputs": [],
   "source": [
    "x_train = np.array(temp).reshape(-1,28,28,1)"
   ]
  },
  {
   "cell_type": "code",
   "execution_count": 21,
   "metadata": {},
   "outputs": [
    {
     "name": "stdout",
     "output_type": "stream",
     "text": [
      "[[0. 0. 0. ... 0. 0. 0.]\n",
      " [0. 0. 0. ... 0. 0. 1.]\n",
      " [0. 1. 0. ... 0. 0. 0.]\n",
      " ...\n",
      " [0. 0. 0. ... 0. 0. 1.]\n",
      " [0. 0. 0. ... 0. 0. 0.]\n",
      " [1. 0. 0. ... 0. 0. 0.]]\n"
     ]
    }
   ],
   "source": [
    "from keras.utils import to_categorical\n",
    "y_train = to_categorical(train['label'],num_classes = 10)\n",
    "print(y_train)"
   ]
  },
  {
   "cell_type": "code",
   "execution_count": 22,
   "metadata": {},
   "outputs": [],
   "source": [
    "split_num = int(len(y_train)*0.7)\n",
    "train_x,val_x = x_train[:split_num],x_train[split_num:]\n",
    "train_y,val_y = y_train[:split_num],y_train[split_num:]"
   ]
  },
  {
   "cell_type": "code",
   "execution_count": 26,
   "metadata": {},
   "outputs": [
    {
     "name": "stdout",
     "output_type": "stream",
     "text": [
      "Train on 34300 samples, validate on 14700 samples\n",
      "Epoch 1/10\n",
      "34300/34300 [==============================] - 34s 993us/step - loss: 3.6834 - acc: 0.6998 - val_loss: 0.2496 - val_acc: 0.9369\n",
      "Epoch 2/10\n",
      "34300/34300 [==============================] - 34s 995us/step - loss: 0.3806 - acc: 0.8988 - val_loss: 0.1458 - val_acc: 0.9593\n",
      "Epoch 3/10\n",
      "34300/34300 [==============================] - 30s 874us/step - loss: 0.2464 - acc: 0.9289 - val_loss: 0.1107 - val_acc: 0.9684\n",
      "Epoch 4/10\n",
      "34300/34300 [==============================] - 20s 584us/step - loss: 0.1900 - acc: 0.9441 - val_loss: 0.1022 - val_acc: 0.9728\n",
      "Epoch 5/10\n",
      "34300/34300 [==============================] - 19s 568us/step - loss: 0.1596 - acc: 0.9519 - val_loss: 0.0947 - val_acc: 0.9756\n",
      "Epoch 6/10\n",
      "34300/34300 [==============================] - 20s 594us/step - loss: 0.1377 - acc: 0.9592 - val_loss: 0.0846 - val_acc: 0.9764\n",
      "Epoch 7/10\n",
      "34300/34300 [==============================] - 20s 592us/step - loss: 0.1301 - acc: 0.9616 - val_loss: 0.0862 - val_acc: 0.9754\n",
      "Epoch 8/10\n",
      "34300/34300 [==============================] - 20s 593us/step - loss: 0.1077 - acc: 0.9664 - val_loss: 0.0774 - val_acc: 0.9790\n",
      "Epoch 9/10\n",
      "34300/34300 [==============================] - 20s 594us/step - loss: 0.1024 - acc: 0.9672 - val_loss: 0.0766 - val_acc: 0.9790\n",
      "Epoch 10/10\n",
      "34300/34300 [==============================] - 20s 572us/step - loss: 0.0990 - acc: 0.9691 - val_loss: 0.0782 - val_acc: 0.9800\n"
     ]
    },
    {
     "data": {
      "text/plain": [
       "<keras.callbacks.History at 0x1dfcd1df320>"
      ]
     },
     "execution_count": 26,
     "metadata": {},
     "output_type": "execute_result"
    }
   ],
   "source": [
    "from keras.models import Sequential\n",
    "from keras.layers import Conv2D,MaxPooling2D,Flatten,Dense,Dropout\n",
    "model = Sequential()\n",
    "model.add(Conv2D(32,kernel_size = (3,3),activation = 'relu',input_shape = (28,28,1)))\n",
    "model.add(MaxPooling2D(pool_size = (2,2)))\n",
    "model.add(Dropout(0.25))\n",
    "model.add(Flatten())\n",
    "model.add(Dense(128,activation = 'relu'))\n",
    "model.add(Dropout(0.5))\n",
    "model.add(Dense(10,activation = 'softmax'))\n",
    "model.compile(optimizer = 'adam',loss = 'categorical_crossentropy',metrics = ['accuracy'])\n",
    "model.fit(train_x,train_y,batch_size = 128,epochs = 10,validation_data = (val_x,val_y))"
   ]
  },
  {
   "cell_type": "code",
   "execution_count": 27,
   "metadata": {},
   "outputs": [
    {
     "name": "stdout",
     "output_type": "stream",
     "text": [
      "WARNING:tensorflow:From C:\\Users\\admin\\Anaconda3\\lib\\site-packages\\keras\\backend\\tensorflow_backend.py:1834: The name tf.nn.fused_batch_norm is deprecated. Please use tf.compat.v1.nn.fused_batch_norm instead.\n",
      "\n",
      "Train on 34300 samples, validate on 14700 samples\n",
      "Epoch 1/10\n",
      "34300/34300 [==============================] - 36s 1ms/step - loss: 0.2665 - acc: 0.9208 - val_loss: 0.0932 - val_acc: 0.9705\n",
      "Epoch 2/10\n",
      "34300/34300 [==============================] - 39s 1ms/step - loss: 0.1089 - acc: 0.9665 - val_loss: 0.0681 - val_acc: 0.9790\n",
      "Epoch 3/10\n",
      "34300/34300 [==============================] - 62s 2ms/step - loss: 0.0773 - acc: 0.9768 - val_loss: 0.0820 - val_acc: 0.9747\n",
      "Epoch 4/10\n",
      "34300/34300 [==============================] - 51s 1ms/step - loss: 0.0657 - acc: 0.9796 - val_loss: 0.0610 - val_acc: 0.9816\n",
      "Epoch 5/10\n",
      "34300/34300 [==============================] - 34s 980us/step - loss: 0.0565 - acc: 0.9814 - val_loss: 0.0667 - val_acc: 0.9796\n",
      "Epoch 6/10\n",
      "34300/34300 [==============================] - 34s 991us/step - loss: 0.0487 - acc: 0.9842 - val_loss: 0.0592 - val_acc: 0.9825\n",
      "Epoch 7/10\n",
      "34300/34300 [==============================] - 33s 969us/step - loss: 0.0467 - acc: 0.9844 - val_loss: 0.0766 - val_acc: 0.9768\n",
      "Epoch 8/10\n",
      "34300/34300 [==============================] - 34s 979us/step - loss: 0.0438 - acc: 0.9852 - val_loss: 0.0556 - val_acc: 0.9822\n",
      "Epoch 9/10\n",
      "34300/34300 [==============================] - 34s 993us/step - loss: 0.0392 - acc: 0.9866 - val_loss: 0.0650 - val_acc: 0.9810\n",
      "Epoch 10/10\n",
      "34300/34300 [==============================] - 34s 989us/step - loss: 0.0388 - acc: 0.9871 - val_loss: 0.0574 - val_acc: 0.9827\n"
     ]
    },
    {
     "data": {
      "text/plain": [
       "<keras.callbacks.History at 0x1dfcf398320>"
      ]
     },
     "execution_count": 27,
     "metadata": {},
     "output_type": "execute_result"
    }
   ],
   "source": [
    "from keras.models import Sequential\n",
    "from keras.layers import Conv2D,MaxPooling2D,Flatten,Dense,Dropout\n",
    "from keras.layers.normalization import BatchNormalization\n",
    "model = Sequential()\n",
    "model.add(Conv2D(32,kernel_size = (3,3),activation = 'relu',input_shape = (28,28,1)))\n",
    "model.add(MaxPooling2D(pool_size = (2,2)))\n",
    "model.add(BatchNormalization())\n",
    "model.add(Dropout(0.25))\n",
    "model.add(Flatten())\n",
    "model.add(Dense(128,activation = 'relu'))\n",
    "model.add(BatchNormalization())\n",
    "model.add(Dropout(0.5))\n",
    "model.add(Dense(10,activation = 'softmax'))\n",
    "model.compile(optimizer = 'adam',loss = 'categorical_crossentropy',metrics = ['accuracy'])\n",
    "model.fit(train_x,train_y,batch_size = 128,epochs = 10,validation_data = (val_x,val_y))"
   ]
  },
  {
   "cell_type": "code",
   "execution_count": 29,
   "metadata": {},
   "outputs": [],
   "source": [
    "split_num1 = int(len(y_train)*0.9)\n",
    "train1_x,val1_x = x_train[:split_num1],x_train[split_num1:]\n",
    "train1_y,val1_y = y_train[:split_num1],y_train[split_num1:]"
   ]
  },
  {
   "cell_type": "code",
   "execution_count": 30,
   "metadata": {},
   "outputs": [
    {
     "name": "stdout",
     "output_type": "stream",
     "text": [
      "Train on 44100 samples, validate on 4900 samples\n",
      "Epoch 1/10\n",
      "44100/44100 [==============================] - 41s 927us/step - loss: 0.2527 - acc: 0.9244 - val_loss: 0.0945 - val_acc: 0.9694\n",
      "Epoch 2/10\n",
      "44100/44100 [==============================] - 40s 898us/step - loss: 0.1034 - acc: 0.9685 - val_loss: 0.0667 - val_acc: 0.9782\n",
      "Epoch 3/10\n",
      "44100/44100 [==============================] - 40s 898us/step - loss: 0.0800 - acc: 0.9754 - val_loss: 0.0638 - val_acc: 0.9810\n",
      "Epoch 4/10\n",
      "44100/44100 [==============================] - 40s 904us/step - loss: 0.0675 - acc: 0.9783 - val_loss: 0.0576 - val_acc: 0.9829\n",
      "Epoch 5/10\n",
      "44100/44100 [==============================] - 39s 894us/step - loss: 0.0583 - acc: 0.9804 - val_loss: 0.0590 - val_acc: 0.9804\n",
      "Epoch 6/10\n",
      "44100/44100 [==============================] - 40s 908us/step - loss: 0.0527 - acc: 0.9824 - val_loss: 0.0593 - val_acc: 0.9829\n",
      "Epoch 7/10\n",
      "44100/44100 [==============================] - 39s 895us/step - loss: 0.0460 - acc: 0.9850 - val_loss: 0.0541 - val_acc: 0.9843\n",
      "Epoch 8/10\n",
      "44100/44100 [==============================] - 40s 914us/step - loss: 0.0404 - acc: 0.9862 - val_loss: 0.0698 - val_acc: 0.9800\n",
      "Epoch 9/10\n",
      "44100/44100 [==============================] - 40s 913us/step - loss: 0.0398 - acc: 0.9864 - val_loss: 0.0595 - val_acc: 0.9820\n",
      "Epoch 10/10\n",
      "44100/44100 [==============================] - 40s 913us/step - loss: 0.0375 - acc: 0.9875 - val_loss: 0.0509 - val_acc: 0.9837\n"
     ]
    },
    {
     "data": {
      "text/plain": [
       "<keras.callbacks.History at 0x1dfd3cd05f8>"
      ]
     },
     "execution_count": 30,
     "metadata": {},
     "output_type": "execute_result"
    }
   ],
   "source": [
    "from keras.models import Sequential\n",
    "from keras.layers import Conv2D,MaxPooling2D,Flatten,Dense,Dropout\n",
    "from keras.layers.normalization import BatchNormalization\n",
    "model = Sequential()\n",
    "model.add(Conv2D(32,kernel_size = (3,3),activation = 'relu',input_shape = (28,28,1)))\n",
    "model.add(MaxPooling2D(pool_size = (2,2)))\n",
    "model.add(BatchNormalization())\n",
    "model.add(Dropout(0.25))\n",
    "model.add(Flatten())\n",
    "model.add(Dense(128,activation = 'relu'))\n",
    "model.add(BatchNormalization())\n",
    "model.add(Dropout(0.5))\n",
    "model.add(Dense(10,activation = 'softmax'))\n",
    "model.compile(optimizer = 'adam',loss = 'categorical_crossentropy',metrics = ['accuracy'])\n",
    "model.fit(train1_x,train1_y,batch_size = 128,epochs = 10,validation_data = (val1_x,val1_y))"
   ]
  }
 ],
 "metadata": {
  "kernelspec": {
   "display_name": "Python 3",
   "language": "python",
   "name": "python3"
  },
  "language_info": {
   "codemirror_mode": {
    "name": "ipython",
    "version": 3
   },
   "file_extension": ".py",
   "mimetype": "text/x-python",
   "name": "python",
   "nbconvert_exporter": "python",
   "pygments_lexer": "ipython3",
   "version": "3.6.5"
  }
 },
 "nbformat": 4,
 "nbformat_minor": 2
}
