{
  "nbformat": 4,
  "nbformat_minor": 0,
  "metadata": {
    "colab": {
      "name": "Copy of final folder.ipynb",
      "provenance": []
    },
    "kernelspec": {
      "name": "python3",
      "display_name": "Python 3"
    },
    "accelerator": "TPU"
  },
  "cells": [
    {
      "cell_type": "code",
      "metadata": {
        "trusted": true,
        "id": "K0s1APVful9e",
        "colab_type": "code",
        "colab": {}
      },
      "source": [
        ""
      ],
      "execution_count": 0,
      "outputs": []
    },
    {
      "cell_type": "code",
      "metadata": {
        "id": "wQI5w-uVqrml",
        "colab_type": "code",
        "trusted": true,
        "outputId": "fa2c6c83-fbf0-4001-e76c-6e4fdf574cbb",
        "colab": {
          "base_uri": "https://localhost:8080/",
          "height": 80
        }
      },
      "source": [
        "import os\n",
        "import numpy as np\n",
        "import pandas as pd\n",
        "import random \n",
        "import copy\n",
        "import matplotlib.pyplot as plt\n",
        "import datetime as dt\n",
        "from sklearn.metrics import mean_absolute_error as MAE\n",
        "from sklearn import linear_model as lm\n",
        "from keras.models import Sequential\n",
        "from keras.layers import Activation, Dense,Bidirectional,Dropout,LSTM\n",
        "from itertools import chain"
      ],
      "execution_count": 0,
      "outputs": [
        {
          "output_type": "stream",
          "text": [
            "Using TensorFlow backend.\n"
          ],
          "name": "stderr"
        },
        {
          "output_type": "display_data",
          "data": {
            "text/html": [
              "<p style=\"color: red;\">\n",
              "The default version of TensorFlow in Colab will soon switch to TensorFlow 2.x.<br>\n",
              "We recommend you <a href=\"https://www.tensorflow.org/guide/migrate\" target=\"_blank\">upgrade</a> now \n",
              "or ensure your notebook will continue to use TensorFlow 1.x via the <code>%tensorflow_version 1.x</code> magic:\n",
              "<a href=\"https://colab.research.google.com/notebooks/tensorflow_version.ipynb\" target=\"_blank\">more info</a>.</p>\n"
            ],
            "text/plain": [
              "<IPython.core.display.HTML object>"
            ]
          },
          "metadata": {
            "tags": []
          }
        }
      ]
    },
    {
      "cell_type": "code",
      "metadata": {
        "trusted": true,
        "id": "_7aO0ZlDul9u",
        "colab_type": "code",
        "colab": {}
      },
      "source": [
        " original_data= pd.read_excel('YES_BANK.xlsx',\n",
        "header=None,\n",
        "index_col=False,\n",
        "keep_default_na=True,names=['Date','Open','High','Low','Close','Volume']\n",
        ")\n"
      ],
      "execution_count": 0,
      "outputs": []
    },
    {
      "cell_type": "code",
      "metadata": {
        "id": "w8tWliCRvlAr",
        "colab_type": "code",
        "outputId": "cb245ee5-3b43-4f9e-88cb-70a7a58e8672",
        "colab": {
          "base_uri": "https://localhost:8080/",
          "height": 402
        }
      },
      "source": [
        "original_data"
      ],
      "execution_count": 0,
      "outputs": [
        {
          "output_type": "execute_result",
          "data": {
            "text/html": [
              "<div>\n",
              "<style scoped>\n",
              "    .dataframe tbody tr th:only-of-type {\n",
              "        vertical-align: middle;\n",
              "    }\n",
              "\n",
              "    .dataframe tbody tr th {\n",
              "        vertical-align: top;\n",
              "    }\n",
              "\n",
              "    .dataframe thead th {\n",
              "        text-align: right;\n",
              "    }\n",
              "</style>\n",
              "<table border=\"1\" class=\"dataframe\">\n",
              "  <thead>\n",
              "    <tr style=\"text-align: right;\">\n",
              "      <th></th>\n",
              "      <th>Date</th>\n",
              "      <th>Open</th>\n",
              "      <th>High</th>\n",
              "      <th>Low</th>\n",
              "      <th>Close</th>\n",
              "      <th>Volume</th>\n",
              "    </tr>\n",
              "  </thead>\n",
              "  <tbody>\n",
              "    <tr>\n",
              "      <th>0</th>\n",
              "      <td>2020-03-09</td>\n",
              "      <td>17.00</td>\n",
              "      <td>22.80</td>\n",
              "      <td>16.20</td>\n",
              "      <td>21.25</td>\n",
              "      <td>69542810</td>\n",
              "    </tr>\n",
              "    <tr>\n",
              "      <th>1</th>\n",
              "      <td>2020-03-06</td>\n",
              "      <td>33.20</td>\n",
              "      <td>33.20</td>\n",
              "      <td>5.55</td>\n",
              "      <td>16.20</td>\n",
              "      <td>106336244</td>\n",
              "    </tr>\n",
              "    <tr>\n",
              "      <th>2</th>\n",
              "      <td>2020-03-05</td>\n",
              "      <td>29.40</td>\n",
              "      <td>37.90</td>\n",
              "      <td>28.05</td>\n",
              "      <td>36.85</td>\n",
              "      <td>43386506</td>\n",
              "    </tr>\n",
              "    <tr>\n",
              "      <th>3</th>\n",
              "      <td>2020-03-04</td>\n",
              "      <td>31.40</td>\n",
              "      <td>31.70</td>\n",
              "      <td>28.65</td>\n",
              "      <td>29.30</td>\n",
              "      <td>10055149</td>\n",
              "    </tr>\n",
              "    <tr>\n",
              "      <th>4</th>\n",
              "      <td>2020-03-03</td>\n",
              "      <td>32.80</td>\n",
              "      <td>33.30</td>\n",
              "      <td>30.60</td>\n",
              "      <td>31.25</td>\n",
              "      <td>10299879</td>\n",
              "    </tr>\n",
              "    <tr>\n",
              "      <th>...</th>\n",
              "      <td>...</td>\n",
              "      <td>...</td>\n",
              "      <td>...</td>\n",
              "      <td>...</td>\n",
              "      <td>...</td>\n",
              "      <td>...</td>\n",
              "    </tr>\n",
              "    <tr>\n",
              "      <th>3627</th>\n",
              "      <td>2005-07-18</td>\n",
              "      <td>12.56</td>\n",
              "      <td>13.13</td>\n",
              "      <td>12.47</td>\n",
              "      <td>12.85</td>\n",
              "      <td>30424025</td>\n",
              "    </tr>\n",
              "    <tr>\n",
              "      <th>3628</th>\n",
              "      <td>2005-07-15</td>\n",
              "      <td>11.56</td>\n",
              "      <td>12.88</td>\n",
              "      <td>11.25</td>\n",
              "      <td>12.35</td>\n",
              "      <td>36693185</td>\n",
              "    </tr>\n",
              "    <tr>\n",
              "      <th>3629</th>\n",
              "      <td>2005-07-14</td>\n",
              "      <td>11.88</td>\n",
              "      <td>11.96</td>\n",
              "      <td>11.40</td>\n",
              "      <td>11.46</td>\n",
              "      <td>6810720</td>\n",
              "    </tr>\n",
              "    <tr>\n",
              "      <th>3630</th>\n",
              "      <td>2005-07-13</td>\n",
              "      <td>12.29</td>\n",
              "      <td>12.47</td>\n",
              "      <td>11.48</td>\n",
              "      <td>11.70</td>\n",
              "      <td>28784240</td>\n",
              "    </tr>\n",
              "    <tr>\n",
              "      <th>3631</th>\n",
              "      <td>2005-07-12</td>\n",
              "      <td>13.00</td>\n",
              "      <td>14.00</td>\n",
              "      <td>12.03</td>\n",
              "      <td>12.16</td>\n",
              "      <td>130706350</td>\n",
              "    </tr>\n",
              "  </tbody>\n",
              "</table>\n",
              "<p>3632 rows × 6 columns</p>\n",
              "</div>"
            ],
            "text/plain": [
              "           Date   Open   High    Low  Close     Volume\n",
              "0    2020-03-09  17.00  22.80  16.20  21.25   69542810\n",
              "1    2020-03-06  33.20  33.20   5.55  16.20  106336244\n",
              "2    2020-03-05  29.40  37.90  28.05  36.85   43386506\n",
              "3    2020-03-04  31.40  31.70  28.65  29.30   10055149\n",
              "4    2020-03-03  32.80  33.30  30.60  31.25   10299879\n",
              "...         ...    ...    ...    ...    ...        ...\n",
              "3627 2005-07-18  12.56  13.13  12.47  12.85   30424025\n",
              "3628 2005-07-15  11.56  12.88  11.25  12.35   36693185\n",
              "3629 2005-07-14  11.88  11.96  11.40  11.46    6810720\n",
              "3630 2005-07-13  12.29  12.47  11.48  11.70   28784240\n",
              "3631 2005-07-12  13.00  14.00  12.03  12.16  130706350\n",
              "\n",
              "[3632 rows x 6 columns]"
            ]
          },
          "metadata": {
            "tags": []
          },
          "execution_count": 173
        }
      ]
    },
    {
      "cell_type": "code",
      "metadata": {
        "id": "Z7JkpC9Rq6Qq",
        "colab_type": "code",
        "outputId": "343a1d74-a3ba-4832-90b6-06a89d27cfc2",
        "trusted": true,
        "colab": {
          "base_uri": "https://localhost:8080/",
          "height": 195
        }
      },
      "source": [
        "original_data=original_data.iloc[::-1]\n",
        "list_=original_data.values.tolist()\n",
        "original_data=pd.DataFrame(list_)\n",
        "#original_data\n",
        "original_data.columns=[\"Date\"\t,\"Open\",\t\"High\",\t\"Low\",\t\"Close\",\t\"Volume\"]\n",
        "original_data['Date'] = pd.to_datetime(original_data['Date'])\n",
        "original_data.head()"
      ],
      "execution_count": 0,
      "outputs": [
        {
          "output_type": "execute_result",
          "data": {
            "text/html": [
              "<div>\n",
              "<style scoped>\n",
              "    .dataframe tbody tr th:only-of-type {\n",
              "        vertical-align: middle;\n",
              "    }\n",
              "\n",
              "    .dataframe tbody tr th {\n",
              "        vertical-align: top;\n",
              "    }\n",
              "\n",
              "    .dataframe thead th {\n",
              "        text-align: right;\n",
              "    }\n",
              "</style>\n",
              "<table border=\"1\" class=\"dataframe\">\n",
              "  <thead>\n",
              "    <tr style=\"text-align: right;\">\n",
              "      <th></th>\n",
              "      <th>Date</th>\n",
              "      <th>Open</th>\n",
              "      <th>High</th>\n",
              "      <th>Low</th>\n",
              "      <th>Close</th>\n",
              "      <th>Volume</th>\n",
              "    </tr>\n",
              "  </thead>\n",
              "  <tbody>\n",
              "    <tr>\n",
              "      <th>0</th>\n",
              "      <td>2005-07-12</td>\n",
              "      <td>13.00</td>\n",
              "      <td>14.00</td>\n",
              "      <td>12.03</td>\n",
              "      <td>12.16</td>\n",
              "      <td>130706350</td>\n",
              "    </tr>\n",
              "    <tr>\n",
              "      <th>1</th>\n",
              "      <td>2005-07-13</td>\n",
              "      <td>12.29</td>\n",
              "      <td>12.47</td>\n",
              "      <td>11.48</td>\n",
              "      <td>11.70</td>\n",
              "      <td>28784240</td>\n",
              "    </tr>\n",
              "    <tr>\n",
              "      <th>2</th>\n",
              "      <td>2005-07-14</td>\n",
              "      <td>11.88</td>\n",
              "      <td>11.96</td>\n",
              "      <td>11.40</td>\n",
              "      <td>11.46</td>\n",
              "      <td>6810720</td>\n",
              "    </tr>\n",
              "    <tr>\n",
              "      <th>3</th>\n",
              "      <td>2005-07-15</td>\n",
              "      <td>11.56</td>\n",
              "      <td>12.88</td>\n",
              "      <td>11.25</td>\n",
              "      <td>12.35</td>\n",
              "      <td>36693185</td>\n",
              "    </tr>\n",
              "    <tr>\n",
              "      <th>4</th>\n",
              "      <td>2005-07-18</td>\n",
              "      <td>12.56</td>\n",
              "      <td>13.13</td>\n",
              "      <td>12.47</td>\n",
              "      <td>12.85</td>\n",
              "      <td>30424025</td>\n",
              "    </tr>\n",
              "  </tbody>\n",
              "</table>\n",
              "</div>"
            ],
            "text/plain": [
              "        Date   Open   High    Low  Close     Volume\n",
              "0 2005-07-12  13.00  14.00  12.03  12.16  130706350\n",
              "1 2005-07-13  12.29  12.47  11.48  11.70   28784240\n",
              "2 2005-07-14  11.88  11.96  11.40  11.46    6810720\n",
              "3 2005-07-15  11.56  12.88  11.25  12.35   36693185\n",
              "4 2005-07-18  12.56  13.13  12.47  12.85   30424025"
            ]
          },
          "metadata": {
            "tags": []
          },
          "execution_count": 177
        }
      ]
    },
    {
      "cell_type": "code",
      "metadata": {
        "id": "qV-VETW9rGmD",
        "colab_type": "code",
        "trusted": true,
        "colab": {}
      },
      "source": [
        "def datasetpreparation(original_data):\n",
        "  data_split = int(len(original_data)*0.8)\n",
        "  data1 = original_data.drop(['Date','Volume'],axis = 1)\n",
        "  data1.head()\n",
        "  data1_input = []\n",
        "  for i in range(len(data1) - 4):\n",
        "    list1 = data1[i:i+5].values.tolist()\n",
        "    data1_input.append(list1)\n",
        "  #print(np.array(data4_input).shape)\n",
        "  #(data4_input)\n",
        "  data1_output = data1.ix[5:,:]\n",
        "  #data4_output\n",
        "  train1_input = np.array(data1_input[0:data_split])\n",
        "  train1_output = np.array(data1_output[0:data_split])\n",
        "  print(train1_input.shape)\n",
        "  print(train1_output.shape)\n",
        "  test1_input = np.array(data1_input[data_split:])\n",
        "  test1_output = np.array(data1_output[data_split:])\n",
        "  print(test1_input.shape)\n",
        "  print(test1_output.shape)\n",
        "  return train1_input,train1_output,test1_input,test1_output"
      ],
      "execution_count": 0,
      "outputs": []
    },
    {
      "cell_type": "code",
      "metadata": {
        "id": "x8OT3crfs0Lb",
        "colab_type": "code",
        "trusted": true,
        "colab": {}
      },
      "source": [
        "def LSTMmodel():\n",
        "  model1 = Sequential()\n",
        "  model1.add(Bidirectional(LSTM(50, activation='relu'), input_shape=(5, 4)))\n",
        "  model1.add(Dropout(0.25))\n",
        "  model1.add(Dense(4))\n",
        "  model1.compile(optimizer='adam', loss='mae')\n",
        "  return model1"
      ],
      "execution_count": 0,
      "outputs": []
    },
    {
      "cell_type": "code",
      "metadata": {
        "id": "gFpQm7C1tScJ",
        "colab_type": "code",
        "trusted": true,
        "colab": {}
      },
      "source": [
        "def modeltrain(train1_input,train1_output,model1):\n",
        "  #train_input,train_output,test1_input,test1_output = datasetpreparation(original_data)\n",
        "  #model = LSTMmodel \n",
        "  history = model1.fit(train1_input, train1_output, epochs=600, verbose=1)\n",
        "  model1.save('YES_BANK.h5')"
      ],
      "execution_count": 0,
      "outputs": []
    },
    {
      "cell_type": "code",
      "metadata": {
        "id": "mGbk8Hovuzu2",
        "colab_type": "code",
        "trusted": true,
        "colab": {}
      },
      "source": [
        "def evaluateval(model1,train1_input,train1_output):\n",
        "  #train_input,train_output,test1_input,test1_output = datasetpreparation(original_data)\n",
        "  predict = model1.predict(train1_input)\n",
        "  predict1 = pd.DataFrame(predict)\n",
        "  output = pd.DataFrame(train1_output)\n",
        "  for i in range(4):\n",
        "    plt.plot(predict1.ix[:,i])\n",
        "    plt.plot(output.ix[:,i])\n",
        "    plt.show()"
      ],
      "execution_count": 0,
      "outputs": []
    },
    {
      "cell_type": "code",
      "metadata": {
        "id": "LlhucTjkwzi3",
        "colab_type": "code",
        "trusted": true,
        "colab": {}
      },
      "source": [
        "def test(model1,train1_input,train1_output,test1_input,test1_output,i):\n",
        "  input = test1_input[i].reshape(1,5,4)\n",
        "  train1_input = np.concatenate((train1_input,input),axis = 0)\n",
        "  train1_input = train1_input[-20:]\n",
        "  output = test1_output[i].reshape(1,4)\n",
        "  train1_output = np.concatenate((train1_output,output),axis = 0)\n",
        "  train1_output = train1_output[-20:]\n",
        "  prediction = model1.predict(input)\n",
        "  return prediction,train1_input,train1_output"
      ],
      "execution_count": 0,
      "outputs": []
    },
    {
      "cell_type": "code",
      "metadata": {
        "id": "3qNceHOr1rwY",
        "colab_type": "code",
        "trusted": true,
        "colab": {}
      },
      "source": [
        "def feedback(model1,train1_input,train1_output,test1_input,i):\n",
        "  model1.fit(train1_input, train1_output, epochs=10, verbose=1)\n",
        "  prediction = model1.predict(test1_input[i].reshape(1,5,4))\n",
        "  return prediction"
      ],
      "execution_count": 0,
      "outputs": []
    },
    {
      "cell_type": "code",
      "metadata": {
        "id": "F1k17D97_Lnw",
        "colab_type": "code",
        "trusted": true,
        "colab": {}
      },
      "source": [
        "from keras.models import load_model\n",
        "  def predict(original_data):\n",
        "  train1_input,train1_output,test1_input,test1_output = datasetpreparation(original_data)\n",
        "  model1 = LSTMmodel()\n",
        "  model1 = load_model('YES_BANK.h5')\n",
        "  pred_list = []\n",
        "  pred_list_feedback = []\n",
        "  for i in range(len(test1_input)):\n",
        "   pred,train1_input,train1_output = test(model1,train1_input,train1_output,test1_input,test1_output,i)\n",
        "   \n",
        "   pred=(pred.tolist())\n",
        "   pred = list(chain.from_iterable(pred))\n",
        "   pred_list.append(pred)\n",
        "\n",
        "   prediction = feedback(model1,train1_input,train1_output,test1_input,i)\n",
        "   prediction=(prediction.tolist())\n",
        "   prediction = list(chain.from_iterable(prediction))\n",
        "   pred_list_feedback.append(prediction)\n",
        "   #print(pred)\n",
        "   #print(prediction)\n",
        "   #print(test1_output[i])\n",
        "   #print(pred_list)\n",
        "   #print(pred_list_feedback)  \n",
        "  return pred_list, pred_list_feedback \n"
      ],
      "execution_count": 0,
      "outputs": []
    },
    {
      "cell_type": "code",
      "metadata": {
        "id": "Xw6EKOH6zL7o",
        "colab_type": "code",
        "colab": {}
      },
      "source": [
        "def runprograme(original_data):\n",
        "  train1_input,train1_output,test1_input,test1_output = datasetpreparation(original_data)\n",
        "  model1 = LSTMmodel()\n",
        "  modeltrain(train1_input,train1_output,model1)\n",
        "  model1 = load_model('YES_BANK.h5')\n",
        "  evaluateval(model1,train1_input,train1_output)\n",
        "  pred_list,pred_list_feedback = predict(original_data)\n",
        "  return pred_list, pred_list_feedback \n"
      ],
      "execution_count": 0,
      "outputs": []
    },
    {
      "cell_type": "code",
      "metadata": {
        "id": "DM4hRU0lFEIH",
        "colab_type": "code",
        "trusted": true,
        "colab": {}
      },
      "source": [
        "pred_list, pred_list_feedback = runprograme(original_data)\n"
      ],
      "execution_count": 0,
      "outputs": []
    },
    {
      "cell_type": "code",
      "metadata": {
        "id": "UEZTcDbI3T1x",
        "colab_type": "code",
        "colab": {}
      },
      "source": [
        "#predict = model1.predict(test1_input)\n",
        "  predict1 = pred_list_feedback\n",
        "  output = pd.DataFrame(test1_output)\n",
        "  for i in range(4):\n",
        "    plt.plot(predict1.ix[:,i])\n",
        "    plt.plot(output.ix[:,i])\n",
        "    plt.show()"
      ],
      "execution_count": 0,
      "outputs": []
    },
    {
      "cell_type": "code",
      "metadata": {
        "id": "6UqRi-WqtwgC",
        "colab_type": "code",
        "colab": {}
      },
      "source": [
        ""
      ],
      "execution_count": 0,
      "outputs": []
    }
  ]
}
